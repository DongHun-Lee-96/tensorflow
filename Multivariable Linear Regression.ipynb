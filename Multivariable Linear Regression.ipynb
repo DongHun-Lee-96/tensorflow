{
 "cells": [
  {
   "cell_type": "markdown",
   "metadata": {},
   "source": [
    "### Hypothesis using matrix"
   ]
  },
  {
   "cell_type": "code",
   "execution_count": 69,
   "metadata": {},
   "outputs": [],
   "source": [
    "import tensorflow as tf\n",
    "import numpy as np"
   ]
  },
  {
   "cell_type": "code",
   "execution_count": 70,
   "metadata": {},
   "outputs": [],
   "source": [
    "x1 = [73., 93., 89., 96., 73.]\n",
    "x2 = [80., 88., 91., 98., 66.]\n",
    "x3 = [75., 93., 90., 100., 70.]\n",
    "Y = [152., 185., 180., 196., 142.]"
   ]
  },
  {
   "cell_type": "code",
   "execution_count": 71,
   "metadata": {},
   "outputs": [],
   "source": [
    "#random weights\n",
    "w1 = tf.Variable(tf.random.normal([1]))\n",
    "w2 = tf.Variable(tf.random.normal([1]))\n",
    "w3 = tf.Variable(tf.random.normal([1]))\n",
    "b = tf.Variable(tf.random.normal([1]))"
   ]
  },
  {
   "cell_type": "code",
   "execution_count": 72,
   "metadata": {},
   "outputs": [],
   "source": [
    "learning_rate = 0.000001"
   ]
  },
  {
   "cell_type": "code",
   "execution_count": 73,
   "metadata": {},
   "outputs": [
    {
     "name": "stdout",
     "output_type": "stream",
     "text": [
      "    0 |   35782.5625\n",
      "   50 |     403.6556\n",
      "  100 |      11.0727\n",
      "  150 |       6.6997\n",
      "  200 |       6.6343\n",
      "  250 |       6.6168\n",
      "  300 |       6.5998\n",
      "  350 |       6.5829\n",
      "  400 |       6.5661\n",
      "  450 |       6.5493\n",
      "  500 |       6.5326\n",
      "  550 |       6.5159\n",
      "  600 |       6.4992\n",
      "  650 |       6.4826\n",
      "  700 |       6.4660\n",
      "  750 |       6.4495\n",
      "  800 |       6.4330\n",
      "  850 |       6.4166\n",
      "  900 |       6.4002\n",
      "  950 |       6.3838\n",
      " 1000 |       6.3675\n"
     ]
    }
   ],
   "source": [
    "for i in range(1000+1):\n",
    "    # tf.GradientTape() to record the gradient of the cost function\n",
    "    with tf.GradientTape() as tape:\n",
    "        hypothesis = w1*x1 + w2*x2 + w3*x3 + b\n",
    "        cost = tf.reduce_mean(tf.square(hypothesis - Y))\n",
    "    # calculates the gradients of the cost\n",
    "    w1_grad, w2_grad, w3_grad, b_grad = tape.gradient(cost, [w1,w2,w3,b]) \n",
    "    \n",
    "    # update w1,w2,w3 and b\n",
    "    w1.assign_sub(learning_rate * w1_grad)\n",
    "    w2.assign_sub(learning_rate * w2_grad)\n",
    "    w3.assign_sub(learning_rate * w3_grad)\n",
    "    b.assign_sub(learning_rate * b_grad)\n",
    "    \n",
    "    if i % 50 == 0:\n",
    "        print(\"{:5} | {:12.4f}\".format(i, cost.numpy()))"
   ]
  },
  {
   "cell_type": "markdown",
   "metadata": {},
   "source": [
    "### Matrix"
   ]
  },
  {
   "cell_type": "code",
   "execution_count": 89,
   "metadata": {},
   "outputs": [],
   "source": [
    "data = np.array([\n",
    "   [73., 80., 75., 152.],\n",
    "   [93., 88., 93., 185.],\n",
    "   [89., 91., 90., 180.],\n",
    "   [96., 98., 100., 196.],\n",
    "   [73., 66., 70., 142.]\n",
    "], dtype=np.float32)"
   ]
  },
  {
   "cell_type": "code",
   "execution_count": 90,
   "metadata": {},
   "outputs": [],
   "source": [
    "# slice data\n",
    "X = data[:, :-1]\n",
    "y = data[:,[-1]]"
   ]
  },
  {
   "cell_type": "code",
   "execution_count": 91,
   "metadata": {},
   "outputs": [],
   "source": [
    "W = tf.Variable(tf.random.normal([3,1]))\n",
    "b = tf.Variable(tf.random.normal([1]))\n",
    "learning_rate = 0.000001"
   ]
  },
  {
   "cell_type": "code",
   "execution_count": 92,
   "metadata": {},
   "outputs": [],
   "source": [
    "# hypothesis, prediction function\n",
    "def predict(X):\n",
    "    return tf.matmul(X,W) + b"
   ]
  },
  {
   "cell_type": "code",
   "execution_count": 93,
   "metadata": {},
   "outputs": [
    {
     "name": "stdout",
     "output_type": "stream",
     "text": [
      "    0 |  2689.7715\n",
      "  100 |     6.1085\n",
      "  200 |     5.7525\n",
      "  300 |     5.7270\n",
      "  400 |     5.7017\n",
      "  500 |     5.6765\n",
      "  600 |     5.6515\n",
      "  700 |     5.6265\n",
      "  800 |     5.6017\n",
      "  900 |     5.5771\n",
      " 1000 |     5.5526\n",
      " 1100 |     5.5282\n",
      " 1200 |     5.5039\n",
      " 1300 |     5.4798\n",
      " 1400 |     5.4557\n",
      " 1500 |     5.4319\n",
      " 1600 |     5.4081\n",
      " 1700 |     5.3845\n",
      " 1800 |     5.3610\n",
      " 1900 |     5.3376\n",
      " 2000 |     5.3144\n"
     ]
    }
   ],
   "source": [
    "n_epochs = 2000\n",
    "for i in range(n_epochs + 1):\n",
    "    #record the gradient of the cost function\n",
    "    with tf.GradientTape() as tape:\n",
    "        cost = tf.reduce_mean(tf.square(predict(X) - y))\n",
    "        \n",
    "    #calculates the gradients of the loss\n",
    "    W_grad, b_grad = tape.gradient(cost, [W, b])\n",
    "    \n",
    "    #updates parameters (W and b)\n",
    "    W.assign_sub(learning_rate * W_grad)\n",
    "    b.assign_sub(learning_rate * b_grad)\n",
    "    \n",
    "    if i%100 ==0:\n",
    "        print(\"{:5} | {:10.4f}\".format(i, cost.numpy()))\n",
    "    "
   ]
  }
 ],
 "metadata": {
  "kernelspec": {
   "display_name": "Python 3",
   "language": "python",
   "name": "python3"
  },
  "language_info": {
   "codemirror_mode": {
    "name": "ipython",
    "version": 3
   },
   "file_extension": ".py",
   "mimetype": "text/x-python",
   "name": "python",
   "nbconvert_exporter": "python",
   "pygments_lexer": "ipython3",
   "version": "3.8.3"
  }
 },
 "nbformat": 4,
 "nbformat_minor": 4
}
